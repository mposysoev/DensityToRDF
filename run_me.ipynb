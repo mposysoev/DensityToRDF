{
 "cells": [
  {
   "cell_type": "markdown",
   "metadata": {},
   "source": [
    "# Density To RDF"
   ]
  },
  {
   "cell_type": "code",
   "execution_count": null,
   "metadata": {},
   "outputs": [],
   "source": [
    "include(\"src/DensityToRDF.jl\")\n",
    "\n",
    "using .DensityToRDF\n",
    "using Flux\n",
    "using Plots"
   ]
  },
  {
   "cell_type": "markdown",
   "metadata": {},
   "source": [
    "To run this program, you first need to configure parameters and prepare your training data. Start by setting up a concentrations array in percentages and an array of paths to corresponding RDF files. These RDF files should contain two columns: the first with distances and the second with the corresponding values.\n",
    "\n",
    "Next, create a tuple with training parameters, including fields for `epochs` and `learning_rate`. The program uses the `Adam` optimizer by default, so you don't need to specify this.\n",
    "\n",
    "An important consideration is the length of your RDF files. **All files should have the same number of data points**, as this value determines the structure of your neural network model. For example, if your RDF plots have 300 points, the neural network will have 300 neurons in its output layer.\n",
    "\n",
    "Remember, the consistency in RDF file length is crucial because it directly influences the model's architecture. This design ensures that the neural network's output corresponds precisely to the input data structure you provide."
   ]
  },
  {
   "cell_type": "markdown",
   "metadata": {},
   "source": [
    "### Loading Training and Testing Data"
   ]
  },
  {
   "cell_type": "code",
   "execution_count": null,
   "metadata": {},
   "outputs": [],
   "source": [
    "concentrations = [100, 60, 40, 20]\n",
    "rdf_paths = [\"rdf_data/$(c)CH3OH-CG.rdf\" for c in concentrations]\n",
    "\n",
    "test_concentrations = 10:10:100\n",
    "test_rdf_paths = [\"rdf_data/$(c)CH3OH-CG.rdf\" for c in test_concentrations]\n",
    "\n",
    "reference_data = load_reference_data(test_rdf_paths)\n",
    "\n",
    "validate_data(concentrations, rdf_paths)\n",
    "\n",
    "data = prepare_training_data(concentrations, rdf_paths)\n",
    "test_data = prepare_training_data(test_concentrations, test_rdf_paths);"
   ]
  },
  {
   "cell_type": "markdown",
   "metadata": {},
   "source": [
    "### Creating the Model"
   ]
  },
  {
   "cell_type": "code",
   "execution_count": null,
   "metadata": {},
   "outputs": [],
   "source": [
    "output_neurons = length(first(data)[2])\n",
    "model = create_model(output_neurons)"
   ]
  },
  {
   "cell_type": "markdown",
   "metadata": {},
   "source": [
    "## Training"
   ]
  },
  {
   "cell_type": "code",
   "execution_count": null,
   "metadata": {},
   "outputs": [],
   "source": [
    "params = (\n",
    "    epochs=10000,\n",
    "    learning_rate=0.01\n",
    ");"
   ]
  },
  {
   "cell_type": "code",
   "execution_count": null,
   "metadata": {},
   "outputs": [],
   "source": [
    "trained_model, losses_initial = train_model(model, data, params);"
   ]
  },
  {
   "cell_type": "code",
   "execution_count": null,
   "metadata": {},
   "outputs": [],
   "source": [
    "plot_loss_values(losses_initial)"
   ]
  },
  {
   "cell_type": "code",
   "execution_count": null,
   "metadata": {},
   "outputs": [],
   "source": [
    "save_losses(losses_initial, \"losses_initial.txt\")"
   ]
  },
  {
   "cell_type": "code",
   "execution_count": null,
   "metadata": {},
   "outputs": [],
   "source": [
    "evaluation_results = evaluate_model(trained_model, test_data)\n",
    "println(\"Evaluation results:\")\n",
    "for result in evaluation_results\n",
    "    println(\"Concentration: $(result.input), MSE: $(result.mse)\")\n",
    "end"
   ]
  },
  {
   "cell_type": "code",
   "execution_count": null,
   "metadata": {},
   "outputs": [],
   "source": [
    "plot_evaluation_results(evaluation_results)"
   ]
  },
  {
   "cell_type": "markdown",
   "metadata": {},
   "source": [
    "## Fine Tuning"
   ]
  },
  {
   "cell_type": "markdown",
   "metadata": {},
   "source": [
    "Often, a single training session is not sufficient. You typically need to train your model further with different sets of parameters. It often helps to use a smaller learning rate.\n",
    "\n",
    "**REPEAT THIS BLOCK OF CODE SEVERAL TIMES WITH DECREASING LR FOR BEST RESULTS**"
   ]
  },
  {
   "cell_type": "code",
   "execution_count": null,
   "metadata": {},
   "outputs": [],
   "source": [
    "params = (\n",
    "    epochs=100000,\n",
    "    learning_rate=0.0001\n",
    ");"
   ]
  },
  {
   "cell_type": "code",
   "execution_count": null,
   "metadata": {},
   "outputs": [],
   "source": [
    "trained_model, losses_fine_tuned = train_model(trained_model, data, params);"
   ]
  },
  {
   "cell_type": "code",
   "execution_count": null,
   "metadata": {},
   "outputs": [],
   "source": [
    "plot_loss_values(losses_fine_tuned, false)"
   ]
  },
  {
   "cell_type": "code",
   "execution_count": null,
   "metadata": {},
   "outputs": [],
   "source": [
    "save_losses(losses_fine_tuned, \"losses_fine_tuned.txt\")"
   ]
  },
  {
   "cell_type": "code",
   "execution_count": null,
   "metadata": {},
   "outputs": [],
   "source": [
    "evaluation_results_fine_tuned = evaluate_model(trained_model, test_data)\n",
    "println(\"Evaluation results:\")\n",
    "for result in evaluation_results_fine_tuned\n",
    "    println(\"Concentration: $(result.input), MSE: $(result.mse)\")\n",
    "end"
   ]
  },
  {
   "cell_type": "code",
   "execution_count": null,
   "metadata": {},
   "outputs": [],
   "source": [
    "plot_evaluation_results(evaluation_results_fine_tuned)"
   ]
  },
  {
   "cell_type": "code",
   "execution_count": null,
   "metadata": {},
   "outputs": [],
   "source": [
    "save_model(trained_model, \"output_model.bson\")"
   ]
  },
  {
   "cell_type": "markdown",
   "metadata": {},
   "source": [
    "## Results"
   ]
  },
  {
   "cell_type": "code",
   "execution_count": null,
   "metadata": {},
   "outputs": [],
   "source": [
    "plot_results(test_concentrations, reference_data, trained_model)"
   ]
  },
  {
   "cell_type": "markdown",
   "metadata": {},
   "source": [
    "## Now you can try to predict RDF for any concentration"
   ]
  },
  {
   "cell_type": "code",
   "execution_count": null,
   "metadata": {},
   "outputs": [],
   "source": [
    "conc = 42\n",
    "plot_rdf_model(trained_model([conc]), conc)"
   ]
  },
  {
   "cell_type": "markdown",
   "metadata": {},
   "source": [
    "## Interpreting of the Model"
   ]
  },
  {
   "cell_type": "code",
   "execution_count": null,
   "metadata": {},
   "outputs": [],
   "source": [
    "p = plot(Flux.params(trained_model)[1],\n",
    "    xlabel=\"Number\",\n",
    "    ylabel=\"Values\",\n",
    "    title=\"VALUES of Output Layer\",\n",
    "    linewidth=2,\n",
    "    label=\"Neurons\"\n",
    ")\n",
    "display(p)"
   ]
  },
  {
   "cell_type": "code",
   "execution_count": null,
   "metadata": {},
   "outputs": [],
   "source": [
    "p = plot(Flux.params(trained_model)[2],\n",
    "    xlabel=\"Number\",\n",
    "    ylabel=\"Values\",\n",
    "    title=\"BIASES of Output Layer\",\n",
    "    linewidth=2,\n",
    "    label=\"Biases\"\n",
    ")\n",
    "display(p)"
   ]
  },
  {
   "cell_type": "code",
   "execution_count": null,
   "metadata": {},
   "outputs": [],
   "source": [
    "conc = 0\n",
    "plot_rdf_model(trained_model([conc]), conc)"
   ]
  },
  {
   "cell_type": "code",
   "execution_count": null,
   "metadata": {},
   "outputs": [],
   "source": []
  }
 ],
 "metadata": {
  "kernelspec": {
   "display_name": "Julia 1.10.5",
   "language": "julia",
   "name": "julia-1.10"
  },
  "language_info": {
   "file_extension": ".jl",
   "mimetype": "application/julia",
   "name": "julia",
   "version": "1.10.5"
  }
 },
 "nbformat": 4,
 "nbformat_minor": 2
}
